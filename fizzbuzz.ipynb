{
 "cells": [
  {
   "cell_type": "code",
   "execution_count": 107,
   "metadata": {
    "collapsed": false
   },
   "outputs": [],
   "source": [
    "from keras.models import Sequential\n",
    "from keras.layers import Dense, Activation, Reshape\n",
    "\n",
    "NUMBER_OF_DIGITS = 18\n",
    "MAX_NUMBER = 2**NUMBER_OF_DIGITS\n",
    "\n",
    "model = Sequential([\n",
    "    Dense(NUMBER_OF_DIGITS, input_shape=(NUMBER_OF_DIGITS,)),\n",
    "    Activation('relu'),\n",
    "    Dense(64),\n",
    "    Activation('relu'),\n",
    "    Dense(64),\n",
    "    Activation('relu'),\n",
    "    Dense(32),\n",
    "    Activation('relu'),\n",
    "    Dense(1)\n",
    "])\n",
    "\n",
    "#model.summary()\n",
    "\n",
    "model.compile(loss='mse', optimizer='sgd', metrics=['accuracy'])"
   ]
  },
  {
   "cell_type": "code",
   "execution_count": 108,
   "metadata": {
    "collapsed": false
   },
   "outputs": [],
   "source": [
    "def int2modelInput(i):\n",
    "    if i >= MAX_NUMBER:\n",
    "        raise ValueError(\"Integer %i too big to express in model\", i)\n",
    "    result = [0] * NUMBER_OF_DIGITS\n",
    "    digit = -1\n",
    "    while i > 0:\n",
    "        result[digit] = i % 2\n",
    "        i /= 2\n",
    "        digit -= 1\n",
    "    return result\n",
    "        \n",
    "def int2fizzModelOutput(i):\n",
    "    if (i % 3 == 0):\n",
    "        return True\n",
    "    else:\n",
    "        return False\n",
    "    \n",
    "def int2buzzModelOutput(i):\n",
    "    if (i % 5 == 0):\n",
    "        return True\n",
    "    else:\n",
    "        return False"
   ]
  },
  {
   "cell_type": "code",
   "execution_count": 109,
   "metadata": {
    "collapsed": false
   },
   "outputs": [],
   "source": [
    "r = range(0, MAX_NUMBER, 1)\n",
    "x_train = map(int2modelInput, r)\n",
    "y_train = map(int2buzzModelOutput, r)"
   ]
  },
  {
   "cell_type": "code",
   "execution_count": null,
   "metadata": {
    "collapsed": false
   },
   "outputs": [
    {
     "name": "stdout",
     "output_type": "stream",
     "text": [
      "Train on 183500 samples, validate on 78644 samples\n",
      "Epoch 1/10\n",
      "183500/183500 [==============================] - 4s - loss: 0.1611 - acc: 0.8000 - val_loss: 0.1605 - val_acc: 0.8000\n",
      "Epoch 2/10\n",
      "183500/183500 [==============================] - 4s - loss: 0.1604 - acc: 0.8000 - val_loss: 0.1604 - val_acc: 0.8000\n",
      "Epoch 3/10\n",
      " 70496/183500 [==========>...................] - ETA: 2s - loss: 0.1607 - acc: 0.7994"
     ]
    }
   ],
   "source": [
    "model.fit(x_train, y_train, validation_split=0.3, shuffle=True)"
   ]
  },
  {
   "cell_type": "code",
   "execution_count": null,
   "metadata": {
    "collapsed": true
   },
   "outputs": [],
   "source": []
  }
 ],
 "metadata": {
  "kernelspec": {
   "display_name": "Python 2",
   "language": "python",
   "name": "python2"
  },
  "language_info": {
   "codemirror_mode": {
    "name": "ipython",
    "version": 2
   },
   "file_extension": ".py",
   "mimetype": "text/x-python",
   "name": "python",
   "nbconvert_exporter": "python",
   "pygments_lexer": "ipython2",
   "version": "2.7.11"
  }
 },
 "nbformat": 4,
 "nbformat_minor": 0
}
